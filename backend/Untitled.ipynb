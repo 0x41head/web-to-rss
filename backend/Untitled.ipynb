{
 "cells": [
  {
   "cell_type": "code",
   "execution_count": 6,
   "id": "bd7c8980-351c-432a-b6ec-3736d000971e",
   "metadata": {},
   "outputs": [],
   "source": [
    "import firebase_admin\n",
    "from firebase_admin import firestore, credentials"
   ]
  },
  {
   "cell_type": "code",
   "execution_count": 9,
   "id": "20aa5629-a43e-4da5-b5cb-ce49e56df7f1",
   "metadata": {},
   "outputs": [
    {
     "name": "stdout",
     "output_type": "stream",
     "text": [
      "The default Firebase app already exists. This means you called initialize_app() more than once without providing an app name as the second argument. In most cases you only need to call initialize_app() once. But if you do want to initialize multiple apps, pass a second argument to initialize_app() to give each app a unique name.\n"
     ]
    }
   ],
   "source": [
    "cred = credentials.Certificate(\"./kagi-demo-firebase-adminsdk-yy469-9ebf643ee2.json\")\n",
    "try:\n",
    "    firebase_admin.initialize_app(cred)\n",
    "except ValueError as e:\n",
    "    print(e)"
   ]
  },
  {
   "cell_type": "code",
   "execution_count": 4,
   "id": "761616a1-0ecc-4274-a404-3ee3e338c875",
   "metadata": {},
   "outputs": [],
   "source": [
    "db= firestore.client()"
   ]
  },
  {
   "cell_type": "code",
   "execution_count": 12,
   "id": "92978228-8f7c-43fd-8dc6-bf15bc6ca6e2",
   "metadata": {},
   "outputs": [],
   "source": [
    "data={\"heelo\":[{\n",
    "    'task':123\n",
    "},{'ras':123}]}\n"
   ]
  },
  {
   "cell_type": "code",
   "execution_count": 13,
   "id": "e54718ff-877a-4a48-84f3-f144d31a5c59",
   "metadata": {},
   "outputs": [
    {
     "data": {
      "text/plain": [
       "update_time {\n",
       "  seconds: 1730448541\n",
       "  nanos: 543302000\n",
       "}"
      ]
     },
     "execution_count": 13,
     "metadata": {},
     "output_type": "execute_result"
    }
   ],
   "source": [
    "doc_ref=db.collection(\"tasks\").document()\n",
    "doc_ref.set(data)"
   ]
  },
  {
   "cell_type": "code",
   "execution_count": null,
   "id": "fa84e1ca-0173-49d4-8b04-d6f75b869cb3",
   "metadata": {},
   "outputs": [],
   "source": []
  }
 ],
 "metadata": {
  "kernelspec": {
   "display_name": "Python (whatever you want to call it)",
   "language": "python",
   "name": "venv"
  },
  "language_info": {
   "codemirror_mode": {
    "name": "ipython",
    "version": 3
   },
   "file_extension": ".py",
   "mimetype": "text/x-python",
   "name": "python",
   "nbconvert_exporter": "python",
   "pygments_lexer": "ipython3",
   "version": "3.12.7"
  }
 },
 "nbformat": 4,
 "nbformat_minor": 5
}
